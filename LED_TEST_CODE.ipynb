{
 "cells": [
  {
   "cell_type": "code",
   "execution_count": 6,
   "id": "9f907714",
   "metadata": {},
   "outputs": [],
   "source": [
    "from pymodbus.client.sync import ModbusSerialClient as mbc\n",
    "import keyboard\n",
    "import csv\n",
    "import time\n",
    "import logging \n",
    "from datetime import datetime\n",
    "import pandas as pd \n",
    "import pyvisa"
   ]
  },
  {
   "cell_type": "code",
   "execution_count": 2,
   "id": "c55be16a",
   "metadata": {},
   "outputs": [
    {
     "data": {
      "text/plain": [
       "True"
      ]
     },
     "execution_count": 2,
     "metadata": {},
     "output_type": "execute_result"
    }
   ],
   "source": [
    "client = mbc(method = \"rtu\", port=\"COM8\",stopbits = 1, bytesize = 8, parity = 'N', baudrate= 1200)\n",
    "#connect to client\n",
    "client.connect()\n",
    "while True:\n",
    "    "
   ]
  },
  {
   "cell_type": "code",
   "execution_count": 3,
   "id": "2df2818b",
   "metadata": {},
   "outputs": [
    {
     "ename": "AttributeError",
     "evalue": "'ModbusIOException' object has no attribute 'registers'",
     "output_type": "error",
     "traceback": [
      "\u001b[1;31m---------------------------------------------------------------------------\u001b[0m",
      "\u001b[1;31mAttributeError\u001b[0m                            Traceback (most recent call last)",
      "\u001b[1;32m~\\AppData\\Local\\Temp/ipykernel_15096/2467619923.py\u001b[0m in \u001b[0;36m<module>\u001b[1;34m\u001b[0m\n\u001b[0;32m      4\u001b[0m \u001b[0minput_reg\u001b[0m \u001b[1;33m=\u001b[0m \u001b[0mclient\u001b[0m\u001b[1;33m.\u001b[0m\u001b[0mread_input_registers\u001b[0m\u001b[1;33m(\u001b[0m\u001b[1;36m200\u001b[0m\u001b[1;33m,\u001b[0m\u001b[0mcount\u001b[0m\u001b[1;33m=\u001b[0m\u001b[1;36m2\u001b[0m\u001b[1;33m,\u001b[0m \u001b[0munit\u001b[0m\u001b[1;33m=\u001b[0m\u001b[1;36m1\u001b[0m\u001b[1;33m)\u001b[0m\u001b[1;33m\u001b[0m\u001b[1;33m\u001b[0m\u001b[0m\n\u001b[0;32m      5\u001b[0m \u001b[1;31m#put data into 2 arrays\u001b[0m\u001b[1;33m\u001b[0m\u001b[1;33m\u001b[0m\u001b[0m\n\u001b[1;32m----> 6\u001b[1;33m \u001b[0mray1\u001b[0m\u001b[1;33m.\u001b[0m\u001b[0mappend\u001b[0m\u001b[1;33m(\u001b[0m\u001b[0minput_reg\u001b[0m\u001b[1;33m.\u001b[0m\u001b[0mregisters\u001b[0m\u001b[1;33m[\u001b[0m\u001b[1;36m0\u001b[0m\u001b[1;33m]\u001b[0m\u001b[1;33m)\u001b[0m\u001b[1;33m\u001b[0m\u001b[1;33m\u001b[0m\u001b[0m\n\u001b[0m\u001b[0;32m      7\u001b[0m \u001b[0mray2\u001b[0m\u001b[1;33m.\u001b[0m\u001b[0mappend\u001b[0m\u001b[1;33m(\u001b[0m\u001b[0minput_reg\u001b[0m\u001b[1;33m.\u001b[0m\u001b[0mregisters\u001b[0m\u001b[1;33m[\u001b[0m\u001b[1;36m1\u001b[0m\u001b[1;33m]\u001b[0m\u001b[1;33m)\u001b[0m\u001b[1;33m\u001b[0m\u001b[1;33m\u001b[0m\u001b[0m\n",
      "\u001b[1;31mAttributeError\u001b[0m: 'ModbusIOException' object has no attribute 'registers'"
     ]
    }
   ],
   "source": [
    "ray1 = []\n",
    "ray2 = []\n",
    "\n",
    "input_reg = client.read_input_registers(200,count=2, unit=1)\n",
    "#put data into 2 arrays\n",
    "ray1.append(input_reg.registers[0])\n",
    "ray2.append(input_reg.registers[1])"
   ]
  },
  {
   "cell_type": "code",
   "execution_count": 32,
   "id": "90039ce3",
   "metadata": {},
   "outputs": [],
   "source": [
    " client.close()"
   ]
  },
  {
   "cell_type": "markdown",
   "id": "2436a312",
   "metadata": {},
   "source": [
    "# Test\n",
    "\n",
    "Code that will run and turn each string of LEDs on and will read the temp sensor on the board "
   ]
  },
  {
   "cell_type": "code",
   "execution_count": 33,
   "id": "b6f55324",
   "metadata": {},
   "outputs": [
    {
     "name": "stdout",
     "output_type": "stream",
     "text": [
      "1\n",
      "[218]\n",
      "2\n",
      "[218]\n",
      "3\n",
      "[216]\n",
      "4\n",
      "[216]\n",
      "5\n",
      "[216]\n",
      "6\n",
      "[218]\n",
      "7\n",
      "[218]\n",
      "[218]\n"
     ]
    }
   ],
   "source": [
    "#address of register\n",
    "address = 100\n",
    "#value to be written to register \n",
    "value = 100\n",
    "client = mbc(method = \"rtu\", port=\"COM8\",stopbits = 1, bytesize = 8, parity = 'N', baudrate= 115200, retries=0, timeout=.1)\n",
    "#connect to client\n",
    "client.connect()\n",
    "#.write_register(address, value)\n",
    "ls = [2,2,50,50]\n",
    "lb = [0,0,0,0]\n",
    "try:\n",
    "    for i in range(1,8):\n",
    "        \n",
    "        client.write_registers(int(address), ls, unit = i)\n",
    "        time.sleep(1)\n",
    "#         input_reg = client.read_input_registers(200,count=1, unit=i)\n",
    "        time.sleep(1)\n",
    "        client.write_registers(int(address), lb, unit = i)\n",
    "        print(i)\n",
    "        input_reg = client.read_input_registers(200,count=1, unit=1)\n",
    "#         print(input_reg)\n",
    "        print(input_reg.registers)\n",
    "        time.sleep(.005)\n",
    "except Exception as e:\n",
    "    print(e)\n",
    "    \n",
    "print(input_reg.registers)\n",
    "client.close()\n"
   ]
  },
  {
   "cell_type": "code",
   "execution_count": 13,
   "id": "73f39753",
   "metadata": {},
   "outputs": [],
   "source": [
    "client = mbc(method = \"rtu\", port=\"COM8\",stopbits = 1, bytesize = 8, parity = 'N', baudrate= 115200, retries=0, timeout=.1)\n",
    "#connect to client\n",
    "client.connect()\n",
    "client.write_coil(300, True)\n",
    "client.close()"
   ]
  },
  {
   "cell_type": "code",
   "execution_count": 5,
   "id": "67ad36f5",
   "metadata": {},
   "outputs": [
    {
     "data": {
      "text/plain": [
       "pymodbus.exceptions.ModbusIOException(pymodbus.exceptions.InvalidMessageReceivedException('No response received, expected at least 2 bytes (0 received)'),\n",
       "                                      5)"
      ]
     },
     "execution_count": 5,
     "metadata": {},
     "output_type": "execute_result"
    }
   ],
   "source": [
    "client.write_coil(300, True)"
   ]
  },
  {
   "cell_type": "code",
   "execution_count": 9,
   "id": "5ff24b05",
   "metadata": {},
   "outputs": [
    {
     "name": "stdout",
     "output_type": "stream",
     "text": [
      "ReadInputRegistersResponse (1)\n"
     ]
    }
   ],
   "source": [
    "input_reg = client.read_input_registers(200,count=1, unit=1)\n",
    "print(input_reg)"
   ]
  },
  {
   "cell_type": "code",
   "execution_count": 40,
   "id": "18275567",
   "metadata": {},
   "outputs": [],
   "source": [
    "client.close()"
   ]
  },
  {
   "cell_type": "code",
   "execution_count": 25,
   "id": "fd6cd401",
   "metadata": {},
   "outputs": [
    {
     "name": "stdout",
     "output_type": "stream",
     "text": [
      "1\n",
      "[213]\n",
      "2\n",
      "[213]\n",
      "3\n",
      "[213]\n"
     ]
    }
   ],
   "source": [
    "client = mbc(method = \"rtu\", port=\"COM8\",stopbits = 1, bytesize = 8, parity = 'N', baudrate= 115200, retries=0, timeout=.1)\n",
    "#connect to client\n",
    "client.connect()\n",
    "time.sleep(1)\n",
    "try:\n",
    "    for i in range(1,4):\n",
    "        print(i)\n",
    "        input_reg = client.read_input_registers(200,count=1, unit=1)\n",
    "#         print(input_reg)\n",
    "        print(input_reg.registers)\n",
    "        time.sleep(.005)\n",
    "except Exception as e:\n",
    "    print(e)\n",
    "time.sleep(1)\n",
    "client.close()"
   ]
  },
  {
   "cell_type": "markdown",
   "id": "a2dc50e0",
   "metadata": {},
   "source": [
    "# Next I will build the test program\n",
    "\n",
    "1. Each chanel of the board will be lit up at low power\n",
    "2. The temp data from each temp sensor will be recorded every time a new string is turned on\n"
   ]
  },
  {
   "cell_type": "code",
   "execution_count": 44,
   "id": "9d929573",
   "metadata": {},
   "outputs": [],
   "source": [
    "\n",
    "\n",
    "def Continutiy_Run():\n",
    "    # adress of each register\n",
    "    address = 100\n",
    "    testName = input(\"Please input name of test:\")\n",
    "    #values to go to each register\n",
    "    write = 2\n",
    "    off = 0\n",
    "\n",
    "    #array of values for tmp sensors\n",
    "    tmpData_Array = [0,0,0,0,0,0,0]\n",
    "\n",
    "    client = mbc(method = \"rtu\", port=\"COM8\",stopbits = 1, bytesize = 8, parity = 'N', baudrate= 115200, retries=0, timeout=.1)\n",
    "    \n",
    "    dirLoc = \"C:\\\\Users\\\\aaron\\\\Dropbox\\\\NewForge\\\\Summer2023\\\\Europa_Simulator\\\\\" + testName + \".csv\"\n",
    "    header = ['Board', 'Temp1', 'Temp2', 'Temp3', 'Temp4', 'Temp5', 'Temp6', 'Temp7']\n",
    "    df = pd.DataFrame(columns= header)\n",
    "    \n",
    "    #creats a new csv file at the dirLoc path\n",
    "    try:\n",
    "        with open(dirLoc, 'w') as path:\n",
    "            #defines the csv writer to \n",
    "            writer = csv.writer(path)\n",
    "            #writes the header for the file\n",
    "            writer.writerow(header)\n",
    "    except Excpetion as e:\n",
    "        print(e)\n",
    "        print('Failed to create file and write to it. Most likely file is still open, close it dummy')\n",
    "\n",
    "    \n",
    "    #connect to client\n",
    "    client.connect()\n",
    "    #.write_register(address, value)\n",
    "\n",
    "    try:\n",
    "        #first string on and off\n",
    "        for i in range(1,8):\n",
    "            print(i)\n",
    "            for x in range(4):\n",
    "                print(x)\n",
    "                if(x >= 2):\n",
    "                    write = 50\n",
    "                client.write_registers((int(address) + x), write, unit = i)\n",
    "                time.sleep(1)\n",
    "                client.write_registers((int(address) + x), off, unit = i)\n",
    "                \n",
    "                for l in range(1,8):\n",
    "                    input_reg = client.read_input_registers(200,count=1, unit=l)\n",
    "                    tmpData_Array[l-1] = input_reg.registers\n",
    "\n",
    "        \n",
    "                df = df.append({'Board': i , 'Temp1': tmpData_Array[0][0] , 'Temp2': tmpData_Array[1][0], 'Temp3': tmpData_Array[2][0] , 'Temp4': tmpData_Array[3][0], 'Temp5': tmpData_Array[4][0], 'Temp6': tmpData_Array[5][0] , 'Temp7': tmpData_Array[6][0]}, ignore_index=True)\n",
    "\n",
    "    except Exception as e:\n",
    "        print(e)\n",
    "    try:\n",
    "        df.to_csv(dirLoc)\n",
    "    except Excpetion as e:\n",
    "        print(e)\n",
    "        print('Failed to create file and write to it. Most likely file is still open, close it dummy')\n",
    "    client.close()\n"
   ]
  },
  {
   "cell_type": "code",
   "execution_count": 45,
   "id": "81ba3256",
   "metadata": {},
   "outputs": [
    {
     "name": "stdout",
     "output_type": "stream",
     "text": [
      "Please input name of test:Test1\n",
      "1\n",
      "0\n",
      "1\n",
      "2\n",
      "3\n",
      "2\n",
      "0\n",
      "1\n",
      "2\n",
      "3\n",
      "3\n",
      "0\n",
      "1\n",
      "2\n",
      "3\n",
      "4\n",
      "0\n",
      "1\n",
      "2\n",
      "3\n",
      "5\n",
      "0\n",
      "1\n",
      "2\n",
      "3\n",
      "6\n",
      "0\n",
      "1\n",
      "2\n",
      "3\n",
      "7\n",
      "0\n",
      "1\n",
      "2\n",
      "3\n"
     ]
    }
   ],
   "source": [
    "Continutiy_Run()"
   ]
  },
  {
   "cell_type": "markdown",
   "id": "c449e030",
   "metadata": {},
   "source": [
    "# Thermal Test\n",
    "\n",
    "1. Ramp all LEDS to full power \n",
    "2. Once X temp is reached\n",
    "3. Start recording temp data every second for 2 minutes"
   ]
  },
  {
   "cell_type": "code",
   "execution_count": 5,
   "id": "2e68ca80",
   "metadata": {},
   "outputs": [],
   "source": [
    "import time \n",
    "\n",
    "def Thermal_Test():\n",
    "    client = mbc(method = \"rtu\", port=\"COM8\",stopbits = 1, bytesize = 8, parity = 'N', baudrate= 115200, retries=0, timeout=.1)\n",
    "    \n",
    "    address = 100\n",
    "    tempTo = input(\"Please input the temperature you would like to start the test at :\")\n",
    "    testName = input(\"Please input the name of the test:\")\n",
    "    la = [50,50,50,50]\n",
    "    lb = [100,100,100,100]\n",
    "    lc = [150,150,150,150]\n",
    "    ld = [200,200,200,200]\n",
    "    le = [255,255,255,255]\n",
    "    \n",
    "    off = [0,0,0,0]\n",
    "    tmpData_Array = []\n",
    "    \n",
    "    dirLoc = \"C:\\\\Users\\\\aaron\\\\Dropbox\\\\NewForge\\\\Summer2023\\\\Europa_Simulator\\\\\" + str(testName) + \".csv\"\n",
    "    header = ['Time', 'Temp1', 'Temp2', 'Temp3', 'Temp4', 'Temp5', 'Temp6', 'Temp7']\n",
    "    df = pd.DataFrame(columns= header)\n",
    "    \n",
    "    #first ramp up the LEDS\n",
    "    client.connect()\n",
    "    \n",
    "    for i in range(1,8):\n",
    "        client.write_registers(int(address), la, unit = i)\n",
    "        time.sleep(.5)\n",
    "    for i in range(1,8):       \n",
    "        client.write_registers(int(address), lb, unit = i)\n",
    "        time.sleep(.5)\n",
    "    for i in range(1,8):  \n",
    "        client.write_registers(int(address), lc, unit = i)\n",
    "        time.sleep(.5)\n",
    "    for i in range(1,8):\n",
    "        client.write_registers(int(address), ld, unit = i)\n",
    "        time.sleep(.5)\n",
    "    for i in range(1,8):            \n",
    "        client.write_registers(int(address), le, unit = i)\n",
    "        time.sleep(.5)\n",
    "\n",
    "    \n",
    "    \n",
    "    while(int(tempTo) *10 > int(temp)):\n",
    "        time.sleep(.005)\n",
    "        data = client.read_input_registers(200,count=1, unit=1)\n",
    "        temp = data.registers\n",
    "        \n",
    "    #end time = time + 60 * num minutes\n",
    "    t_end = time.time() + 60 * 2\n",
    "    \n",
    "    while time.time() < t_end:\n",
    "        time.sleep(.5)\n",
    "        for i in range(1,8):\n",
    "            input_reg = client.read_input_registers(200,count=1, unit=i)\n",
    "            tmpData_Array[i-1] = input_reg.registers\n",
    "        df = df.append({'Time': time.time() , 'Temp1': tmpData_Array[0][0] , 'Temp2': tmpData_Array[1][0], 'Temp3': tmpData_Array[2][0] , 'Temp4': tmpData_Array[3][0], 'Temp5': tmpData_Array[4][0], 'Temp6': tmpData_Array[5][0] , 'Temp7': tmpData_Array[6][0]}, ignore_index=True)\n",
    "        time.sleep(.005)\n",
    "       \n",
    "        \n",
    "    #turn every pannel off\n",
    "    for i in range(1,8):\n",
    "        client.write_registers(int(address), off, unit = i)\n",
    "        \n",
    "    try:\n",
    "        df.to_csv(dirLoc)\n",
    "        client.close()\n",
    "        return df\n",
    "    except Excpetion as e:\n",
    "        print(e)\n",
    "        print('Failed to create file and write to it. Most likely file is still open, close it dummy')\n",
    "    "
   ]
  },
  {
   "cell_type": "code",
   "execution_count": 2,
   "id": "284ebde6",
   "metadata": {},
   "outputs": [],
   "source": [
    "#SINGLE TRIAL RUN#\n",
    "\n",
    "\n",
    "\n",
    "import time \n",
    "\n",
    "def Thermal_Test_Test():\n",
    "    address = 100\n",
    "    tempTo = input(\"Please input the temperature you would like to start the test at :\")\n",
    "    client = mbc(method = \"rtu\", port=\"COM8\",stopbits = 1, bytesize = 8, parity = 'N', baudrate= 115200, retries=0, timeout=.1)\n",
    "    client.connect()\n",
    "    \n",
    "    #     testName = input(\"Please input the name of the test:\")\n",
    "    la = [50,50,2,2]\n",
    "    lb = [100,100,4,4]\n",
    "    lc = [150,150,150,150]\n",
    "    ld = [200,200,200,200]\n",
    "    le = [255,255,255,255]\n",
    "    \n",
    "    off = [0,0,0,0]\n",
    "    tmpData_Array = []\n",
    "    \n",
    "#     dirLoc = \"C:\\\\Users\\\\aaron\\\\Dropbox\\\\NewForge\\\\Summer2023\\\\Europa_Simulator\\\\\" + str(testName) + \".csv\"\n",
    "    header = ['Time', 'Temp1']\n",
    "    df = pd.DataFrame(columns= header)\n",
    "    \n",
    "    #first ramp up the LEDS\n",
    "#     for i in range(1,8):\n",
    "    client.write_registers(int(address), la, unit = 1)\n",
    "    time.sleep(.5)\n",
    "#     for i in range(1,8):       \n",
    "    client.write_registers(int(address), lb, unit = 1)\n",
    "    time.sleep(.5)\n",
    "#     for i in range(1,8):  \n",
    "#         client.write_registers(int(address), lc, unit = i)\n",
    "#         time.sleep(.5)\n",
    "#     for i in range(1,8):\n",
    "#         client.write_registers(int(address), ld, unit = i)\n",
    "#         time.sleep(.5)\n",
    "#     for i in range(1,8):            \n",
    "#         client.write_registers(int(address), le, unit = i)\n",
    "#         time.sleep(.5)\n",
    "\n",
    "    data = client.read_input_registers(200,count=1, unit=1)\n",
    "    temp = data.registers\n",
    "    \n",
    "    while(int(tempTo) *10 > int(temp[0])):\n",
    "        time.sleep(.005)\n",
    "        data = client.read_input_registers(200,count=1, unit=1)\n",
    "        temp = data.registers\n",
    "    \n",
    "    print(temp[0])\n",
    "    #end time = time + 60 * num minutes\n",
    "    t_end = time.time() + 60 * 2\n",
    "    \n",
    "    while time.time() < t_end:\n",
    "        time.sleep(.5)\n",
    "        input_reg = client.read_input_registers(200,count=1, unit=1)\n",
    "        tmpData_Array = input_reg.registers\n",
    "        df = df.append({'Time': time.time() , 'Temp1': tmpData_Array[0]}, ignore_index=True)\n",
    "        time.sleep(.005)\n",
    "       \n",
    "        \n",
    "    #turn every pannel off\n",
    "#     for i in range(1,8):\n",
    "    client.write_registers(int(address), off, unit = 1)\n",
    "    client.close()\n",
    "    \n",
    "    return df\n",
    "    \n",
    "    \n",
    "#     try:\n",
    "# #         df.to_csv(dirLoc)\n",
    "#     except Excpetion as e:\n",
    "#         print(e)\n",
    "#         print('Failed to create file and write to it. Most likely file is still open, close it dummy')\n",
    "    "
   ]
  },
  {
   "cell_type": "code",
   "execution_count": 3,
   "id": "1a8f79e5",
   "metadata": {},
   "outputs": [
    {
     "name": "stdout",
     "output_type": "stream",
     "text": [
      "Please input the temperature you would like to start the test at :29\n",
      "291\n"
     ]
    }
   ],
   "source": [
    "df = Thermal_Test_Test()"
   ]
  },
  {
   "cell_type": "code",
   "execution_count": 4,
   "id": "44c1aa35",
   "metadata": {},
   "outputs": [
    {
     "data": {
      "text/html": [
       "<div>\n",
       "<style scoped>\n",
       "    .dataframe tbody tr th:only-of-type {\n",
       "        vertical-align: middle;\n",
       "    }\n",
       "\n",
       "    .dataframe tbody tr th {\n",
       "        vertical-align: top;\n",
       "    }\n",
       "\n",
       "    .dataframe thead th {\n",
       "        text-align: right;\n",
       "    }\n",
       "</style>\n",
       "<table border=\"1\" class=\"dataframe\">\n",
       "  <thead>\n",
       "    <tr style=\"text-align: right;\">\n",
       "      <th></th>\n",
       "      <th>Time</th>\n",
       "      <th>Temp1</th>\n",
       "    </tr>\n",
       "  </thead>\n",
       "  <tbody>\n",
       "    <tr>\n",
       "      <th>0</th>\n",
       "      <td>1.686082e+09</td>\n",
       "      <td>294.0</td>\n",
       "    </tr>\n",
       "    <tr>\n",
       "      <th>1</th>\n",
       "      <td>1.686082e+09</td>\n",
       "      <td>296.0</td>\n",
       "    </tr>\n",
       "    <tr>\n",
       "      <th>2</th>\n",
       "      <td>1.686082e+09</td>\n",
       "      <td>308.0</td>\n",
       "    </tr>\n",
       "    <tr>\n",
       "      <th>3</th>\n",
       "      <td>1.686082e+09</td>\n",
       "      <td>311.0</td>\n",
       "    </tr>\n",
       "    <tr>\n",
       "      <th>4</th>\n",
       "      <td>1.686082e+09</td>\n",
       "      <td>318.0</td>\n",
       "    </tr>\n",
       "    <tr>\n",
       "      <th>5</th>\n",
       "      <td>1.686082e+09</td>\n",
       "      <td>321.0</td>\n",
       "    </tr>\n",
       "    <tr>\n",
       "      <th>6</th>\n",
       "      <td>1.686082e+09</td>\n",
       "      <td>326.0</td>\n",
       "    </tr>\n",
       "    <tr>\n",
       "      <th>7</th>\n",
       "      <td>1.686082e+09</td>\n",
       "      <td>340.0</td>\n",
       "    </tr>\n",
       "    <tr>\n",
       "      <th>8</th>\n",
       "      <td>1.686082e+09</td>\n",
       "      <td>335.0</td>\n",
       "    </tr>\n",
       "    <tr>\n",
       "      <th>9</th>\n",
       "      <td>1.686082e+09</td>\n",
       "      <td>345.0</td>\n",
       "    </tr>\n",
       "    <tr>\n",
       "      <th>10</th>\n",
       "      <td>1.686082e+09</td>\n",
       "      <td>338.0</td>\n",
       "    </tr>\n",
       "    <tr>\n",
       "      <th>11</th>\n",
       "      <td>1.686082e+09</td>\n",
       "      <td>355.0</td>\n",
       "    </tr>\n",
       "  </tbody>\n",
       "</table>\n",
       "</div>"
      ],
      "text/plain": [
       "            Time  Temp1\n",
       "0   1.686082e+09  294.0\n",
       "1   1.686082e+09  296.0\n",
       "2   1.686082e+09  308.0\n",
       "3   1.686082e+09  311.0\n",
       "4   1.686082e+09  318.0\n",
       "5   1.686082e+09  321.0\n",
       "6   1.686082e+09  326.0\n",
       "7   1.686082e+09  340.0\n",
       "8   1.686082e+09  335.0\n",
       "9   1.686082e+09  345.0\n",
       "10  1.686082e+09  338.0\n",
       "11  1.686082e+09  355.0"
      ]
     },
     "execution_count": 4,
     "metadata": {},
     "output_type": "execute_result"
    }
   ],
   "source": [
    "df"
   ]
  },
  {
   "cell_type": "code",
   "execution_count": 95,
   "id": "3792f33d",
   "metadata": {},
   "outputs": [
    {
     "name": "stdout",
     "output_type": "stream",
     "text": [
      "Please input the temperature you would like to start the test at :300\n",
      "ReadInputRegistersResponse (1)\n",
      "[233]\n"
     ]
    },
    {
     "ename": "TypeError",
     "evalue": "int() argument must be a string, a bytes-like object or a real number, not 'list'",
     "output_type": "error",
     "traceback": [
      "\u001b[1;31m---------------------------------------------------------------------------\u001b[0m",
      "\u001b[1;31mTypeError\u001b[0m                                 Traceback (most recent call last)",
      "\u001b[1;32m~\\AppData\\Local\\Temp/ipykernel_15096/4142636344.py\u001b[0m in \u001b[0;36m<module>\u001b[1;34m\u001b[0m\n\u001b[0;32m     37\u001b[0m \u001b[0mprint\u001b[0m\u001b[1;33m(\u001b[0m\u001b[0mtemp\u001b[0m\u001b[1;33m)\u001b[0m\u001b[1;33m\u001b[0m\u001b[1;33m\u001b[0m\u001b[0m\n\u001b[0;32m     38\u001b[0m \u001b[1;33m\u001b[0m\u001b[0m\n\u001b[1;32m---> 39\u001b[1;33m \u001b[1;32mwhile\u001b[0m\u001b[1;33m(\u001b[0m\u001b[0mint\u001b[0m\u001b[1;33m(\u001b[0m\u001b[0mtempTo\u001b[0m\u001b[1;33m*\u001b[0m\u001b[1;36m10\u001b[0m\u001b[1;33m)\u001b[0m \u001b[1;33m<\u001b[0m \u001b[0mint\u001b[0m\u001b[1;33m(\u001b[0m\u001b[0mtemp\u001b[0m\u001b[1;33m)\u001b[0m\u001b[1;33m)\u001b[0m\u001b[1;33m:\u001b[0m\u001b[1;33m\u001b[0m\u001b[1;33m\u001b[0m\u001b[0m\n\u001b[0m\u001b[0;32m     40\u001b[0m     \u001b[0mdata\u001b[0m \u001b[1;33m=\u001b[0m \u001b[0mclient\u001b[0m\u001b[1;33m.\u001b[0m\u001b[0mread_input_registers\u001b[0m\u001b[1;33m(\u001b[0m\u001b[1;36m200\u001b[0m\u001b[1;33m,\u001b[0m\u001b[0mcount\u001b[0m\u001b[1;33m=\u001b[0m\u001b[1;36m1\u001b[0m\u001b[1;33m,\u001b[0m \u001b[0munit\u001b[0m\u001b[1;33m=\u001b[0m\u001b[1;36m1\u001b[0m\u001b[1;33m)\u001b[0m\u001b[1;33m\u001b[0m\u001b[1;33m\u001b[0m\u001b[0m\n\u001b[0;32m     41\u001b[0m     \u001b[0mtemp\u001b[0m \u001b[1;33m=\u001b[0m \u001b[0mdata\u001b[0m\u001b[1;33m.\u001b[0m\u001b[0mregisters\u001b[0m\u001b[1;33m\u001b[0m\u001b[1;33m\u001b[0m\u001b[0m\n",
      "\u001b[1;31mTypeError\u001b[0m: int() argument must be a string, a bytes-like object or a real number, not 'list'"
     ]
    }
   ],
   "source": [
    "\n",
    "\n",
    "\n",
    "address = 100\n",
    "tempTo = input(\"Please input the temperature you would like to start the test at :\")\n",
    "#     testName = input(\"Please input the name of the test:\")\n",
    "la = [50,50,2,2]\n",
    "lb = [100,100,4,4]\n",
    "lc = [150,150,150,150]\n",
    "ld = [200,200,200,200]\n",
    "le = [255,255,255,255]\n",
    "\n",
    "off = [0,0,0,0]\n",
    "tmpData_Array = []\n",
    "\n",
    "#     dirLoc = \"C:\\\\Users\\\\aaron\\\\Dropbox\\\\NewForge\\\\Summer2023\\\\Europa_Simulator\\\\\" + str(testName) + \".csv\"\n",
    "header = ['Time', 'Temp1']\n",
    "df = pd.DataFrame(columns= header)\n",
    "\n",
    "#first ramp up the LEDS\n",
    "#     for i in range(1,8):\n",
    "client.write_registers(int(address), la, unit = 1)\n",
    "time.sleep(.5)\n",
    "#     for i in range(1,8):       \n",
    "client.write_registers(int(address), lb, unit = 1)\n",
    "time.sleep(.5)\n",
    "#     for i in range(1,8):  \n",
    "#         client.write_registers(int(address), lc, unit = i)\n",
    "#         time.sleep(.5)\n",
    "#     for i in range(1,8):\n",
    "#         client.write_registers(int(address), ld, unit = i)\n",
    "#         time.sleep(.5)\n",
    "#     for i in range(1,8):            \n",
    "#         client.write_registers(int(address), le, unit = i)\n",
    "#         time.sleep(.5)\n",
    "\n",
    "data = client.read_input_registers(200,count=1, unit=1)\n",
    "print(data)\n",
    "temp = data.registers\n",
    "print(temp)\n",
    "\n",
    "while(int(tempTo*10) < int(temp[0])):\n",
    "    data = client.read_input_registers(200,count=1, unit=1)\n",
    "    temp = data.registers\n",
    "\n",
    "#end time = time + 60 * num minutes\n",
    "t_end = time.time() + 60 * 2\n",
    "\n",
    "while time.time() < t_end:\n",
    "    tmpData_Array = readTemp(tmpData_Array)\n",
    "    df = df.append({'Time': time.time() , 'Temp1': tmpData_Array[0]}, ignore_index=True)\n",
    "    time.sleep(1)\n",
    "\n",
    "\n",
    "#turn every pannel off\n",
    "#     for i in range(1,8):\n",
    "client.write_registers(int(address), off, unit = 1)"
   ]
  },
  {
   "cell_type": "code",
   "execution_count": 96,
   "id": "9202db4a",
   "metadata": {},
   "outputs": [
    {
     "data": {
      "text/plain": [
       "[233]"
      ]
     },
     "execution_count": 96,
     "metadata": {},
     "output_type": "execute_result"
    }
   ],
   "source": [
    "temp"
   ]
  },
  {
   "cell_type": "code",
   "execution_count": 99,
   "id": "26b1b33c",
   "metadata": {},
   "outputs": [
    {
     "data": {
      "text/plain": [
       "233"
      ]
     },
     "execution_count": 99,
     "metadata": {},
     "output_type": "execute_result"
    }
   ],
   "source": [
    "temp[0]"
   ]
  },
  {
   "cell_type": "markdown",
   "id": "ea08ebc2",
   "metadata": {},
   "source": [
    "# Test Code for Optical Power Meter Preliminary testing\n",
    "1. Bring every string of one color of LED to X% power\n",
    "2. Every 2 inches take power measurments\n",
    "3. Find the max power at that two inch line by moving the detector verticly\n",
    "4. Log the max power\n",
    "5. Continuosly log the temp every 5 seconds"
   ]
  },
  {
   "cell_type": "code",
   "execution_count": 1,
   "id": "cdc28424",
   "metadata": {},
   "outputs": [
    {
     "data": {
      "text/plain": [
       "('USB0::0x1313::0x8078::P0012289::INSTR',\n",
       " 'ASRL4::INSTR',\n",
       " 'ASRL5::INSTR',\n",
       " 'ASRL6::INSTR',\n",
       " 'ASRL7::INSTR',\n",
       " 'ASRL8::INSTR')"
      ]
     },
     "execution_count": 1,
     "metadata": {},
     "output_type": "execute_result"
    }
   ],
   "source": [
    "################ Getting the coms with the optical power meter working ##############\n",
    "\n",
    "import pyvisa\n",
    "# from ThorlabsPM100 import ThorlabsPM100\n",
    "rm = pyvisa.ResourceManager()\n",
    "rm.list_resources()"
   ]
  },
  {
   "cell_type": "code",
   "execution_count": 3,
   "id": "2428c1ee",
   "metadata": {},
   "outputs": [
    {
     "name": "stdout",
     "output_type": "stream",
     "text": [
      "Thorlabs,PM100D,P0012289,2.4.0\n",
      "\n"
     ]
    },
    {
     "data": {
      "text/plain": [
       "20"
      ]
     },
     "execution_count": 3,
     "metadata": {},
     "output_type": "execute_result"
    }
   ],
   "source": [
    "rm = pyvisa.ResourceManager()\n",
    "#opens the device and starts line of communication\n",
    "OpticBoi = rm.open_resource('USB0::0x1313::0x8078::P0012289::INSTR')\n",
    "#asks instriment its name\n",
    "print(OpticBoi.query(\"*IDN?\"))\n",
    "#sets device to default state so state is known\n",
    "OpticBoi.write(\"*RST\")\n",
    "#sets wavelength of optical power meter\n",
    "OpticBoi.write('sense:corr:wav 850')"
   ]
  },
  {
   "cell_type": "code",
   "execution_count": 5,
   "id": "b7fb11b0",
   "metadata": {},
   "outputs": [],
   "source": [
    "################API for operatin the ThorLabs PM100D over PyVisa serial communication ##########################################\n",
    "class OpticalPower:\n",
    "    #function will initailize communication to device with given address\n",
    "    #an error will be raised if communication is not established\n",
    "    def __init__(self,address):\n",
    "        rm = visa.ResourceManager()\n",
    "        try:\n",
    "            self.OpticBoi = rm.open_resource(address)\n",
    "            #check we are connected to the correct device\n",
    "            name = self.OpticBoi.query(\"*IDN?\")\n",
    "            #responce should be \"Thorlabs,PM100D,P0012289,2.4.0\"\n",
    "            if ((str(name[0]) == 'T') & (name[1] == 'h')):\n",
    "                print('Connected to OpticBoi')\n",
    "            else:\n",
    "                print('Device did not respond with correct name')\n",
    "                logging.error('Device did not respond with correct name')\n",
    "        except:\n",
    "            print(\"Error connecting to device\")\n",
    "            logging.error(\"Error connecting to device\")\n",
    "            \n",
    "   ##funcion writes the wavelength value given to optical power meter##\n",
    "    def writeWav(self,wavelength):\n",
    "        try:\n",
    "            #writes voltage to power supply\n",
    "            self.OpticBoi.write('sense:corr:wav ' + str(wavelength))\n",
    "            #wait one second as to not send commands to quickly\n",
    "            time.sleep(1)\n",
    "            #querry for wavelenth set of power meter\n",
    "            actualWav = self.OpticBoi.query('sense:corr:wav?')\n",
    "            #if the wavelength read is equal to the wavelength sent no error raised\n",
    "            if (float(wavelength) == float(actualWav)) :\n",
    "                print('')\n",
    "            else:\n",
    "                print('actual wavelength does not match wavelegth writen')\n",
    "                logging.error('actual wavelength does not match wavelegth writen')\n",
    "        except Exception as e:\n",
    "            print('wavelength write failed')\n",
    "            logging.error('wavelength write failed')\n",
    "            print(e)\n",
    "            \n",
    "    #function reads the power \n",
    "    def readPower(self):\n",
    "        try:\n",
    "            power = self.OpticBoi.query('measure:power?')\n",
    "            return power\n",
    "            \n",
    "        except Exception as e:\n",
    "            print('power read failed')\n",
    "            logging.error('power read failed')\n",
    "            print(e)\n",
    "            \n",
    "    #function will close device\n",
    "    def close(self):\n",
    "        try:\n",
    "            self.OpticBoi.close()\n",
    "        except Exception as e:\n",
    "            print('faild to close ThorLabs PM100D')\n",
    "            logging.error('faild to close ThorLabs PM100D')\n",
    "            print(e)\n",
    "            \n",
    "    #function writes to device\n",
    "    def write(self,com):\n",
    "        try:\n",
    "            self.OpticBoi.write(com)\n",
    "        except Exception as e:\n",
    "            print('failed to send command to ThorLabs PM100D')\n",
    "            logging.error('failed to send command to ThorLabs PM100D')\n",
    "            print(e)"
   ]
  },
  {
   "cell_type": "markdown",
   "id": "40b2d484",
   "metadata": {},
   "source": [
    "# Code for test"
   ]
  },
  {
   "cell_type": "code",
   "execution_count": 7,
   "id": "0f82f0e3",
   "metadata": {},
   "outputs": [],
   "source": [
    "\n",
    "def Opto_Test():\n",
    "    \n",
    "    #adress of register to write to\n",
    "    #blue 1 is at 100\n",
    "    #blue 2 is at 101\n",
    "    #940 is at 102\n",
    "    #850 is at 103\n",
    "    \n",
    "    address = 103 # starting with the 850's\n",
    "    \n",
    "    TestName = input(\"Please input the name of the test:\") # set name of test\n",
    "    \n",
    "    dirLoc1 = \"C:\\\\Users\\\\aaron\\\\Dropbox\\\\NewForge\\\\Summer2023\\Europa_Simulator\\OpticalPowerMeterTesting\\OpticalData\" + TestName + \".csv\"\n",
    "    dirLoc2 = \"\" + TestName + \".csv\"\n",
    "    \n",
    "    log_format = \"%(asctime)s::%(levelname)s::%(name)s::\"\\\n",
    "             \"%(filename)s::%(lineno)d::%(message)s\"\n",
    "    logging.basicConfig(filename='mylogs.log', level='ERROR', format=log_format)\n",
    "    \n",
    "    header1 = ['Time', 'Temp1', 'Temp2', 'Temp3', 'Temp4', 'Temp5', 'Temp6', 'Temp7']\n",
    "    header2 = ['Time', 'Position', 'Intensity']\n",
    "\n",
    "    \n",
    "    client = mbc(method = \"rtu\", port=\"COM8\",stopbits = 1, bytesize = 8, parity = 'N', baudrate= 115200, retries=0, timeout=.1)\n",
    "    client.connect()\n",
    "    \n",
    "    \n",
    "    \n",
    "    \n",
    "    df1 = pd.DataFrame(columns= header1)\n",
    "    df2 = pd.DataFrame(columns= header2)\n",
    "    \n",
    "    \n",
    "    \n",
    "    \n",
    "    \n",
    "    df = df.append({'Time': time.time() , 'Temp1': tmpData_Array[0][0] , 'Temp2': tmpData_Array[1][0], 'Temp3': tmpData_Array[2][0] , 'Temp4': tmpData_Array[3][0], 'Temp5': tmpData_Array[4][0], 'Temp6': tmpData_Array[5][0] , 'Temp7': tmpData_Array[6][0]}, ignore_index=True)\n",
    "\n",
    "    "
   ]
  }
 ],
 "metadata": {
  "kernelspec": {
   "display_name": "Python 3 (ipykernel)",
   "language": "python",
   "name": "python3"
  },
  "language_info": {
   "codemirror_mode": {
    "name": "ipython",
    "version": 3
   },
   "file_extension": ".py",
   "mimetype": "text/x-python",
   "name": "python",
   "nbconvert_exporter": "python",
   "pygments_lexer": "ipython3",
   "version": "3.10.5"
  }
 },
 "nbformat": 4,
 "nbformat_minor": 5
}
